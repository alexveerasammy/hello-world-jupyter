{
 "cells": [
  {
   "cell_type": "markdown",
   "id": "dfae0da5",
   "metadata": {},
   "source": [
    "# Learn Python - Full Course for Beginners (Tutorial)"
   ]
  },
  {
   "cell_type": "markdown",
   "id": "7aabd3b4",
   "metadata": {},
   "source": [
    "Source: https://www.youtube.com/watch?v=rfscVS0vtbw"
   ]
  },
  {
   "cell_type": "markdown",
   "id": "7c04fea4",
   "metadata": {},
   "source": [
    "## Strings & Basic String Functions"
   ]
  },
  {
   "cell_type": "code",
   "execution_count": 47,
   "id": "c7d61548",
   "metadata": {},
   "outputs": [
    {
     "name": "stdout",
     "output_type": "stream",
     "text": [
      "The quick fox jumps over the lazy brown dog.\n",
      "\n",
      "Linebreaks and using backslash aka escape characters to write quotation marks in strings are \"cool.\"\n",
      "\n",
      "FOX\n",
      "\n",
      "3\n",
      "\n",
      "f\n",
      "\n",
      "1\n",
      "\n",
      "fix\n"
     ]
    }
   ],
   "source": [
    "jumper_name = \"fox\"\n",
    "jumpee_name = \"dog\"\n",
    "\n",
    "print(\"The quick \" + jumper_name + \" jumps over the lazy brown \"+ jumpee_name + \".\")\n",
    "print(\"\\nLinebreaks and using backslash aka escape characters to write quotation marks in strings are \\\"cool.\\\"\")\n",
    "print(\"\\n\"+jumper_name.upper())\n",
    "print(\"\\n\"+str(len(jumper_name)))\n",
    "print(\"\\n\"+jumper_name[0])\n",
    "print(\"\\n\"+str(jumper_name.index(\"o\")))\n",
    "print(\"\\n\"+jumper_name.replace(\"o\",\"i\"))"
   ]
  },
  {
   "cell_type": "markdown",
   "id": "1e635aad",
   "metadata": {},
   "source": [
    "## Numbers and Basic Number Functions"
   ]
  },
  {
   "cell_type": "code",
   "execution_count": 56,
   "id": "6bad6c92",
   "metadata": {
    "scrolled": false
   },
   "outputs": [
    {
     "name": "stdout",
     "output_type": "stream",
     "text": [
      "5\n",
      "-1\n",
      "6\n",
      "0.6666666666666666\n",
      "0.67\n",
      "2\n",
      "8\n",
      "3\n"
     ]
    }
   ],
   "source": [
    "num0 = 2\n",
    "num1 = 3\n",
    "\n",
    "print(num0 + num1)\n",
    "print(num0 - num1)\n",
    "print(num0 * num1)\n",
    "\n",
    "print(num0 / num1)\n",
    "print(round(num0 / num1,2))\n",
    "\n",
    "\n",
    "print(num0 % num1)\n",
    "print(pow(num0,num1))\n",
    "print(max(num0,num1))"
   ]
  },
  {
   "cell_type": "code",
   "execution_count": 68,
   "id": "178f3d37",
   "metadata": {},
   "outputs": [
    {
     "name": "stdout",
     "output_type": "stream",
     "text": [
      "2\n",
      "3\n",
      "1.6733200530681511\n"
     ]
    }
   ],
   "source": [
    "import math # importing a module for more functions. also this is how you comment\n",
    "\n",
    "print(math.floor(2.8))\n",
    "print(math.ceil(2.8))\n",
    "print(math.sqrt(2.8))"
   ]
  },
  {
   "cell_type": "markdown",
   "id": "7843c833",
   "metadata": {},
   "source": [
    "## Getting Input from Users"
   ]
  },
  {
   "cell_type": "code",
   "execution_count": 73,
   "id": "a61ea301",
   "metadata": {},
   "outputs": [
    {
     "name": "stdout",
     "output_type": "stream",
     "text": [
      "Enter animal name: dog\n",
      "Enter another animal name: horse\n",
      "Hello dog! I am horse!\n"
     ]
    }
   ],
   "source": [
    "animal0 = input(\"Enter animal name: \")\n",
    "animal1 = input(\"Enter another animal name: \")\n",
    "print(\"Hello \" + animal0 +\"! I am \" + animal1 + \"!\")"
   ]
  },
  {
   "cell_type": "code",
   "execution_count": 4,
   "id": "c18b392c",
   "metadata": {},
   "outputs": [
    {
     "name": "stdout",
     "output_type": "stream",
     "text": [
      "Enter a number: 2.1\n",
      "Enter another number: 3.2\n",
      "5.300000000000001\n",
      "5.3\n"
     ]
    }
   ],
   "source": [
    "user_num0 = input(\"Enter a number: \")\n",
    "user_num1 = input(\"Enter another number: \")\n",
    "print(float(user_num0) + float(user_num1)) # Using float will allow us to receive non-integers\n",
    "print(round((float(user_num0) + float(user_num1)),2))"
   ]
  },
  {
   "cell_type": "markdown",
   "id": "8482c6bc",
   "metadata": {},
   "source": [
    "## Lists"
   ]
  },
  {
   "cell_type": "code",
   "execution_count": 14,
   "id": "792546cb",
   "metadata": {
    "scrolled": false
   },
   "outputs": [
    {
     "name": "stdout",
     "output_type": "stream",
     "text": [
      "['one', 'two', 'three', 'four']\n",
      "one\n",
      "four\n",
      "['two', 'three']\n"
     ]
    }
   ],
   "source": [
    "numlist = [1,2,3,4,5] # different from np arrays - not as robust options\n",
    "stringlist = [\"one\",\"two\",\"three\",\"four\"]\n",
    "\n",
    "print(stringlist)\n",
    "\n",
    "print(stringlist[0])\n",
    "print(stringlist[-1])\n",
    "print(stringlist[1:3]) # note - precolon is inclusive postcolon is exclusive"
   ]
  },
  {
   "cell_type": "markdown",
   "id": "2e5af632",
   "metadata": {},
   "source": [
    "## List Functions"
   ]
  },
  {
   "cell_type": "code",
   "execution_count": 25,
   "id": "36e1506c",
   "metadata": {},
   "outputs": [
    {
     "name": "stdout",
     "output_type": "stream",
     "text": [
      "['mark', 'marky mark', 'zuck', 'zucker', 'markz']\n"
     ]
    },
    {
     "data": {
      "text/plain": [
       "0"
      ]
     },
     "execution_count": 25,
     "metadata": {},
     "output_type": "execute_result"
    }
   ],
   "source": [
    "friendlist = [\"mark\",\"marky mark\",\"zuck\",\"zucker\",\"markz\"]\n",
    "\n",
    "print(friendlist)\n",
    "\n",
    "# Adding to lists\n",
    "friendlist.extend([\"markzman\",\"mewzealand\"])\n",
    "friendlist.append(\"marzberg\")\n",
    "friendlist.insert(1,\"marky\")\n",
    "\n",
    "# Removing from lists\n",
    "friendlist.remove(\"mark\")\n",
    "friendlist.pop() # removing last element off list\n",
    "friendlist.clear() # clears entire list\n",
    "\n",
    "# Searching lists for index\n",
    "friendlist.append(\"marky mark\")\n",
    "friendlist.index(\"marky mark\")\n"
   ]
  },
  {
   "cell_type": "code",
   "execution_count": 29,
   "id": "eb133748",
   "metadata": {},
   "outputs": [
    {
     "name": "stdout",
     "output_type": "stream",
     "text": [
      "[5, 2, 1, 4, 3]\n",
      "[1, 2, 3, 4, 5]\n",
      "[5, 4, 3, 2, 1]\n"
     ]
    }
   ],
   "source": [
    "numberlist = [5,2,1,4,3]\n",
    "print(numberlist)\n",
    "numberlist.sort()\n",
    "print(numberlist)\n",
    "numberlist.reverse()\n",
    "print(numberlist)"
   ]
  },
  {
   "cell_type": "markdown",
   "id": "462016e2",
   "metadata": {},
   "source": [
    "## Tuples"
   ]
  },
  {
   "cell_type": "code",
   "execution_count": 32,
   "id": "05ed72dc",
   "metadata": {},
   "outputs": [
    {
     "name": "stdout",
     "output_type": "stream",
     "text": [
      "10\n"
     ]
    }
   ],
   "source": [
    "coordinates = (10, 20) # immutable - we cant change this like we could a list\n",
    "print(coordinates[0])"
   ]
  },
  {
   "cell_type": "code",
   "execution_count": 36,
   "id": "e24feefa",
   "metadata": {},
   "outputs": [
    {
     "name": "stdout",
     "output_type": "stream",
     "text": [
      "(10, 20)\n",
      "10\n"
     ]
    }
   ],
   "source": [
    "list_of_coordinates = [(10,20), (20,30), (30,40)]\n",
    "print(list_of_coordinates[0])\n",
    "print(list_of_coordinates[0][0])"
   ]
  },
  {
   "cell_type": "markdown",
   "id": "2b56350c",
   "metadata": {},
   "source": [
    "## Functions"
   ]
  },
  {
   "cell_type": "code",
   "execution_count": 37,
   "id": "3e918d12",
   "metadata": {},
   "outputs": [
    {
     "name": "stdout",
     "output_type": "stream",
     "text": [
      "hello!\n"
     ]
    }
   ],
   "source": [
    "def say_hello():\n",
    "    print(\"hello!\")\n",
    "\n",
    "say_hello()"
   ]
  },
  {
   "cell_type": "code",
   "execution_count": 38,
   "id": "d7624811",
   "metadata": {},
   "outputs": [
    {
     "name": "stdout",
     "output_type": "stream",
     "text": [
      "hello mark!\n"
     ]
    }
   ],
   "source": [
    "def unique_say_hello(name):\n",
    "    print(\"hello \" + name + \"!\")\n",
    "\n",
    "unique_say_hello(\"mark\")"
   ]
  },
  {
   "cell_type": "markdown",
   "id": "50cb7b12",
   "metadata": {},
   "source": [
    "## Return Statement"
   ]
  },
  {
   "cell_type": "code",
   "execution_count": 41,
   "id": "f578452d",
   "metadata": {},
   "outputs": [
    {
     "name": "stdout",
     "output_type": "stream",
     "text": [
      "None\n"
     ]
    }
   ],
   "source": [
    "def cube_num(num):\n",
    "    num*num*num\n",
    "\n",
    "print(cube_num(3)) # this won't do anything"
   ]
  },
  {
   "cell_type": "code",
   "execution_count": 43,
   "id": "3053c397",
   "metadata": {},
   "outputs": [
    {
     "name": "stdout",
     "output_type": "stream",
     "text": [
      "27\n"
     ]
    }
   ],
   "source": [
    "def cube_num(num):\n",
    "    return num*num*num # we need this. return breaks us out of the function\n",
    "\n",
    "print(cube_num(3))"
   ]
  },
  {
   "cell_type": "markdown",
   "id": "11f1865d",
   "metadata": {},
   "source": [
    "## If Statements"
   ]
  },
  {
   "cell_type": "code",
   "execution_count": 55,
   "id": "812a0501",
   "metadata": {},
   "outputs": [
    {
     "name": "stdout",
     "output_type": "stream",
     "text": [
      "Enter a number: 2\n",
      "That was not greater than or equal to 5!\n"
     ]
    }
   ],
   "source": [
    "testnum = int(input(\"Enter a number: \"))\n",
    "\n",
    "if testnum >= 5:\n",
    "    print(\"That was greater than or equal to 5!\")\n",
    "else:\n",
    "    print(\"That was not greater than or equal to 5!\")\n",
    "    "
   ]
  },
  {
   "cell_type": "code",
   "execution_count": 50,
   "id": "c2bcf576",
   "metadata": {},
   "outputs": [
    {
     "name": "stdout",
     "output_type": "stream",
     "text": [
      "grass is green!\n",
      "sun is yellow!\n",
      "clouds are white!\n"
     ]
    }
   ],
   "source": [
    "sky_is_blue = True\n",
    "\n",
    "if sky_is_blue:\n",
    "    print(\"grass is green!\")\n",
    "    print(\"sun is yellow!\")\n",
    "    print(\"clouds are white!\")\n",
    "else:\n",
    "    print(\"maybe grass isn't green...\")"
   ]
  },
  {
   "cell_type": "code",
   "execution_count": 51,
   "id": "76e68ae1",
   "metadata": {},
   "outputs": [
    {
     "name": "stdout",
     "output_type": "stream",
     "text": [
      "either male and/or tall!\n"
     ]
    }
   ],
   "source": [
    "is_male = True\n",
    "is_tall = True\n",
    "\n",
    "if is_male or is_tall:\n",
    "    print(\"either male and/or tall!\")\n",
    "else:\n",
    "    print(\"neither male nor tall!\")"
   ]
  },
  {
   "cell_type": "code",
   "execution_count": 52,
   "id": "5683f614",
   "metadata": {},
   "outputs": [
    {
     "name": "stdout",
     "output_type": "stream",
     "text": [
      "female and tall!\n"
     ]
    }
   ],
   "source": [
    "is_female = True\n",
    "is_tall = True\n",
    "\n",
    "if is_female and is_tall:\n",
    "    print(\"female and tall!\")\n",
    "elif is_female and not(is_tall):\n",
    "    print(\"female and not tall\")\n",
    "elif not(is_female) and is_tall:\n",
    "    print(\"not female and tall\")\n",
    "else:\n",
    "    print(\"not female and not tall\")"
   ]
  },
  {
   "cell_type": "code",
   "execution_count": 69,
   "id": "c8bbe5f2",
   "metadata": {},
   "outputs": [
    {
     "name": "stdout",
     "output_type": "stream",
     "text": [
      "The largest number you entered was: 4\n"
     ]
    }
   ],
   "source": [
    "def max_finder(userinput1, userinput2, userinput3):\n",
    "    return print(\"The largest number you entered was: \" + str(max([userinput1,userinput2,userinput3])))\n",
    "\n",
    "max_finder(2,3,4)"
   ]
  },
  {
   "cell_type": "code",
   "execution_count": 70,
   "id": "d71975af",
   "metadata": {},
   "outputs": [
    {
     "name": "stdout",
     "output_type": "stream",
     "text": [
      "4\n"
     ]
    }
   ],
   "source": [
    "def cond_max_finder(num0,num1,num2):\n",
    "    if num0 > num1 and num0 > num2:\n",
    "        return num0\n",
    "    elif num1 > num0 and num1 > num2:\n",
    "        return num1\n",
    "    else:\n",
    "        return num2\n",
    "\n",
    "print(cond_max_finder(2,3,4))"
   ]
  },
  {
   "cell_type": "markdown",
   "id": "5bb32b94",
   "metadata": {},
   "source": [
    "## Dictionaries"
   ]
  }
 ],
 "metadata": {
  "kernelspec": {
   "display_name": "Python 3 (ipykernel)",
   "language": "python",
   "name": "python3"
  },
  "language_info": {
   "codemirror_mode": {
    "name": "ipython",
    "version": 3
   },
   "file_extension": ".py",
   "mimetype": "text/x-python",
   "name": "python",
   "nbconvert_exporter": "python",
   "pygments_lexer": "ipython3",
   "version": "3.11.5"
  }
 },
 "nbformat": 4,
 "nbformat_minor": 5
}
