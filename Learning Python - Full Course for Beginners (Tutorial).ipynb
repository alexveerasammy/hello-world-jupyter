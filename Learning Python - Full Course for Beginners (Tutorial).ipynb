{
 "cells": [
  {
   "cell_type": "markdown",
   "id": "dfae0da5",
   "metadata": {},
   "source": [
    "# Learn Python - Full Course for Beginners (Tutorial)"
   ]
  },
  {
   "cell_type": "markdown",
   "id": "7aabd3b4",
   "metadata": {},
   "source": [
    "Source: https://www.youtube.com/watch?v=rfscVS0vtbw"
   ]
  },
  {
   "cell_type": "markdown",
   "id": "7c04fea4",
   "metadata": {},
   "source": [
    "## Strings & Basic String Functions"
   ]
  },
  {
   "cell_type": "code",
   "execution_count": 47,
   "id": "c7d61548",
   "metadata": {},
   "outputs": [
    {
     "name": "stdout",
     "output_type": "stream",
     "text": [
      "The quick fox jumps over the lazy brown dog.\n",
      "\n",
      "Linebreaks and using backslash aka escape characters to write quotation marks in strings are \"cool.\"\n",
      "\n",
      "FOX\n",
      "\n",
      "3\n",
      "\n",
      "f\n",
      "\n",
      "1\n",
      "\n",
      "fix\n"
     ]
    }
   ],
   "source": [
    "jumper_name = \"fox\"\n",
    "jumpee_name = \"dog\"\n",
    "\n",
    "print(\"The quick \" + jumper_name + \" jumps over the lazy brown \"+ jumpee_name + \".\")\n",
    "print(\"\\nLinebreaks and using backslash aka escape characters to write quotation marks in strings are \\\"cool.\\\"\")\n",
    "print(\"\\n\"+jumper_name.upper())\n",
    "print(\"\\n\"+str(len(jumper_name)))\n",
    "print(\"\\n\"+jumper_name[0])\n",
    "print(\"\\n\"+str(jumper_name.index(\"o\")))\n",
    "print(\"\\n\"+jumper_name.replace(\"o\",\"i\"))"
   ]
  },
  {
   "cell_type": "markdown",
   "id": "1e635aad",
   "metadata": {},
   "source": [
    "## Numbers and Basic Number Functions"
   ]
  },
  {
   "cell_type": "code",
   "execution_count": 56,
   "id": "6bad6c92",
   "metadata": {
    "scrolled": false
   },
   "outputs": [
    {
     "name": "stdout",
     "output_type": "stream",
     "text": [
      "5\n",
      "-1\n",
      "6\n",
      "0.6666666666666666\n",
      "0.67\n",
      "2\n",
      "8\n",
      "3\n"
     ]
    }
   ],
   "source": [
    "num0 = 2\n",
    "num1 = 3\n",
    "\n",
    "print(num0 + num1)\n",
    "print(num0 - num1)\n",
    "print(num0 * num1)\n",
    "\n",
    "print(num0 / num1)\n",
    "print(round(num0 / num1,2))\n",
    "\n",
    "\n",
    "print(num0 % num1)\n",
    "print(pow(num0,num1))\n",
    "print(max(num0,num1))"
   ]
  },
  {
   "cell_type": "code",
   "execution_count": 68,
   "id": "178f3d37",
   "metadata": {},
   "outputs": [
    {
     "name": "stdout",
     "output_type": "stream",
     "text": [
      "2\n",
      "3\n",
      "1.6733200530681511\n"
     ]
    }
   ],
   "source": [
    "import math # importing a module for more functions. also this is how you comment\n",
    "\n",
    "print(math.floor(2.8))\n",
    "print(math.ceil(2.8))\n",
    "print(math.sqrt(2.8))"
   ]
  },
  {
   "cell_type": "markdown",
   "id": "7843c833",
   "metadata": {},
   "source": [
    "## Getting Input from Users"
   ]
  },
  {
   "cell_type": "code",
   "execution_count": 73,
   "id": "a61ea301",
   "metadata": {},
   "outputs": [
    {
     "name": "stdout",
     "output_type": "stream",
     "text": [
      "Enter animal name: dog\n",
      "Enter another animal name: horse\n",
      "Hello dog! I am horse!\n"
     ]
    }
   ],
   "source": [
    "animal0 = input(\"Enter animal name: \")\n",
    "animal1 = input(\"Enter another animal name: \")\n",
    "print(\"Hello \" + animal0 +\"! I am \" + animal1 + \"!\")"
   ]
  },
  {
   "cell_type": "code",
   "execution_count": 75,
   "id": "c18b392c",
   "metadata": {},
   "outputs": [
    {
     "name": "stdout",
     "output_type": "stream",
     "text": [
      "Enter a number: 2.4\n",
      "Enter another number: 2.1\n",
      "4.5\n"
     ]
    }
   ],
   "source": [
    "user_num0 = input(\"Enter a number: \")\n",
    "user_num1 = input(\"Enter another number: \")\n",
    "print(float(user_num0) + float(user_num1)) # Using float will allow us to receive non-integers"
   ]
  }
 ],
 "metadata": {
  "kernelspec": {
   "display_name": "Python 3 (ipykernel)",
   "language": "python",
   "name": "python3"
  },
  "language_info": {
   "codemirror_mode": {
    "name": "ipython",
    "version": 3
   },
   "file_extension": ".py",
   "mimetype": "text/x-python",
   "name": "python",
   "nbconvert_exporter": "python",
   "pygments_lexer": "ipython3",
   "version": "3.11.5"
  }
 },
 "nbformat": 4,
 "nbformat_minor": 5
}
